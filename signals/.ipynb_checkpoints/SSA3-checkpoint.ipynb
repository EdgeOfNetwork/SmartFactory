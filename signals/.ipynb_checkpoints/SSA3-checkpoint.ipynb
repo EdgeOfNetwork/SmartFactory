{
 "cells": [
  {
   "cell_type": "markdown",
   "id": "daf7bc49",
   "metadata": {},
   "source": [
    "http://www.xavierdupre.fr/app/ensae_teaching_cs/helpsphinx/notebooks/timeseries_ssa.html"
   ]
  },
  {
   "cell_type": "code",
   "execution_count": 2,
   "id": "3e613ec5",
   "metadata": {},
   "outputs": [
    {
     "ename": "ModuleNotFoundError",
     "evalue": "No module named 'jyquickhelper'",
     "output_type": "error",
     "traceback": [
      "\u001b[1;31m---------------------------------------------------------------------------\u001b[0m",
      "\u001b[1;31mModuleNotFoundError\u001b[0m                       Traceback (most recent call last)",
      "\u001b[1;32m~\\AppData\\Local\\Temp/ipykernel_35900/4210138039.py\u001b[0m in \u001b[0;36m<module>\u001b[1;34m\u001b[0m\n\u001b[1;32m----> 1\u001b[1;33m \u001b[1;32mfrom\u001b[0m \u001b[0mjyquickhelper\u001b[0m \u001b[1;32mimport\u001b[0m \u001b[0madd_notebook_menu\u001b[0m\u001b[1;33m\u001b[0m\u001b[1;33m\u001b[0m\u001b[0m\n\u001b[0m\u001b[0;32m      2\u001b[0m \u001b[0madd_notebook_menu\u001b[0m\u001b[1;33m(\u001b[0m\u001b[1;33m)\u001b[0m\u001b[1;33m\u001b[0m\u001b[1;33m\u001b[0m\u001b[0m\n",
      "\u001b[1;31mModuleNotFoundError\u001b[0m: No module named 'jyquickhelper'"
     ]
    }
   ],
   "source": [
    "from jyquickhelper import add_notebook_menu\n",
    "add_notebook_menu()"
   ]
  },
  {
   "cell_type": "code",
   "execution_count": 3,
   "id": "5367a5e7",
   "metadata": {},
   "outputs": [
    {
     "data": {
      "text/plain": [
       "(array([ 0.41225059, -0.44444498, -1.40692088,  0.14205856, -2.03289208]),\n",
       " array([0, 1, 2, 3, 4]))"
      ]
     },
     "execution_count": 3,
     "metadata": {},
     "output_type": "execute_result"
    }
   ],
   "source": [
    "import numpy.random as rnd\n",
    "import numpy as np\n",
    "\n",
    "N = 2000\n",
    "bruit1 = rnd.normal(size=(N,))\n",
    "temps = np.arange(N)\n",
    "bruit1[:5], temps[:5]"
   ]
  },
  {
   "cell_type": "code",
   "execution_count": 4,
   "id": "6524a6d8",
   "metadata": {},
   "outputs": [],
   "source": [
    "import random\n",
    "\n",
    "#노이즈 생성\n",
    "\n",
    "bruit2 = np.zeros((N,))\n",
    "for i in range(0, 10):\n",
    "    h = random.randint(0, N-1)\n",
    "    bruit2[h] = rnd.normal() + 10"
   ]
  },
  {
   "cell_type": "code",
   "execution_count": null,
   "id": "436c769a",
   "metadata": {},
   "outputs": [],
   "source": []
  }
 ],
 "metadata": {
  "kernelspec": {
   "display_name": "Python 3 (ipykernel)",
   "language": "python",
   "name": "python3"
  },
  "language_info": {
   "codemirror_mode": {
    "name": "ipython",
    "version": 3
   },
   "file_extension": ".py",
   "mimetype": "text/x-python",
   "name": "python",
   "nbconvert_exporter": "python",
   "pygments_lexer": "ipython3",
   "version": "3.9.7"
  }
 },
 "nbformat": 4,
 "nbformat_minor": 5
}
