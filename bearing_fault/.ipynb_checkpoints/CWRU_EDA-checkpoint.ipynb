{
 "cells": [
  {
   "cell_type": "markdown",
   "id": "52e23aed",
   "metadata": {},
   "source": [
    "This works come from kaggle  \n",
    "\n",
    "LINK[https://www.kaggle.com/brjapon/eda-of-crwu-bearings-fault-classification]"
   ]
  },
  {
   "cell_type": "code",
   "execution_count": 3,
   "id": "4067e037",
   "metadata": {},
   "outputs": [],
   "source": [
    "import numpy as np # linear algebra\n",
    "import pandas as pd # data processing, CSV file I/O (e.g. pd.read_csv)\n",
    "import seaborn as sns\n",
    "\n",
    "from pylab import rcParams\n",
    "import matplotlib.pyplot as plt\n",
    "\n",
    "import os"
   ]
  },
  {
   "cell_type": "code",
   "execution_count": 7,
   "id": "c157c28b",
   "metadata": {},
   "outputs": [
    {
     "name": "stdout",
     "output_type": "stream",
     "text": [
      "./CWRU\\CWRU_48k_load_1_CNN_data.npz\n",
      "./CWRU\\feature_time_48k_2048_load_1.csv\n",
      "./CWRU\\raw\\B007_1_123.mat\n",
      "./CWRU\\raw\\B014_1_190.mat\n",
      "./CWRU\\raw\\B021_1_227.mat\n",
      "./CWRU\\raw\\IR007_1_110.mat\n",
      "./CWRU\\raw\\IR014_1_175.mat\n",
      "./CWRU\\raw\\IR021_1_214.mat\n",
      "./CWRU\\raw\\OR007_6_1_136.mat\n",
      "./CWRU\\raw\\OR014_6_1_202.mat\n",
      "./CWRU\\raw\\OR021_6_1_239.mat\n",
      "./CWRU\\raw\\Time_Normal_1_098.mat\n"
     ]
    }
   ],
   "source": [
    "for dirname, _, filenames in os.walk('./CWRU'):\n",
    "    for filename in filenames:\n",
    "        print(os.path.join(dirname, filename))"
   ]
  },
  {
   "cell_type": "markdown",
   "id": "50fcf720",
   "metadata": {},
   "source": [
    "Fault type identification\n",
    "There are 10 types of faults, linked to each bearing deffect:  \n",
    "\n",
    "- Ball_007_1: Ball defect (0.007 inch)\n",
    "- Ball_014_1: Ball defect (0.014 inch)\n",
    "- Ball_021_1: Ball defect (0.021 inch)\n",
    "- IR_007_1: Inner race fault (0.007 inch)\n",
    "- IR_014_1: Inner race fault (0.014 inch)\n",
    "- IR_021_1: Inner race fault (0.021 inch)\n",
    "- Normal_1: Normal\n",
    "- OR_007_6_1: Outer race fault (0.007 inch, data collected from 6 O'clock position)\n",
    "- OR_014_6_1: Outer race fault (0.014 inch, 6 O'clock)\n",
    "- OR_021_6_1: Outer race fault (0.021 inch, 6 O'clock)"
   ]
  },
  {
   "cell_type": "code",
   "execution_count": 9,
   "id": "23f9b71b",
   "metadata": {},
   "outputs": [
    {
     "data": {
      "text/html": [
       "<div>\n",
       "<style scoped>\n",
       "    .dataframe tbody tr th:only-of-type {\n",
       "        vertical-align: middle;\n",
       "    }\n",
       "\n",
       "    .dataframe tbody tr th {\n",
       "        vertical-align: top;\n",
       "    }\n",
       "\n",
       "    .dataframe thead th {\n",
       "        text-align: right;\n",
       "    }\n",
       "</style>\n",
       "<table border=\"1\" class=\"dataframe\">\n",
       "  <thead>\n",
       "    <tr style=\"text-align: right;\">\n",
       "      <th></th>\n",
       "      <th>max</th>\n",
       "      <th>min</th>\n",
       "      <th>mean</th>\n",
       "      <th>sd</th>\n",
       "      <th>rms</th>\n",
       "      <th>skewness</th>\n",
       "      <th>kurtosis</th>\n",
       "      <th>crest</th>\n",
       "      <th>form</th>\n",
       "      <th>fault</th>\n",
       "    </tr>\n",
       "  </thead>\n",
       "  <tbody>\n",
       "    <tr>\n",
       "      <th>0</th>\n",
       "      <td>0.35986</td>\n",
       "      <td>-0.41890</td>\n",
       "      <td>0.017840</td>\n",
       "      <td>0.122746</td>\n",
       "      <td>0.124006</td>\n",
       "      <td>-0.118571</td>\n",
       "      <td>-0.042219</td>\n",
       "      <td>2.901946</td>\n",
       "      <td>6.950855</td>\n",
       "      <td>Ball_007_1</td>\n",
       "    </tr>\n",
       "    <tr>\n",
       "      <th>1</th>\n",
       "      <td>0.46772</td>\n",
       "      <td>-0.36111</td>\n",
       "      <td>0.022255</td>\n",
       "      <td>0.132488</td>\n",
       "      <td>0.134312</td>\n",
       "      <td>0.174699</td>\n",
       "      <td>-0.081548</td>\n",
       "      <td>3.482334</td>\n",
       "      <td>6.035202</td>\n",
       "      <td>Ball_007_1</td>\n",
       "    </tr>\n",
       "    <tr>\n",
       "      <th>2</th>\n",
       "      <td>0.46855</td>\n",
       "      <td>-0.43809</td>\n",
       "      <td>0.020470</td>\n",
       "      <td>0.149651</td>\n",
       "      <td>0.151008</td>\n",
       "      <td>0.040339</td>\n",
       "      <td>-0.274069</td>\n",
       "      <td>3.102819</td>\n",
       "      <td>7.376926</td>\n",
       "      <td>Ball_007_1</td>\n",
       "    </tr>\n",
       "    <tr>\n",
       "      <th>3</th>\n",
       "      <td>0.58475</td>\n",
       "      <td>-0.54303</td>\n",
       "      <td>0.020960</td>\n",
       "      <td>0.157067</td>\n",
       "      <td>0.158422</td>\n",
       "      <td>-0.023266</td>\n",
       "      <td>0.134692</td>\n",
       "      <td>3.691097</td>\n",
       "      <td>7.558387</td>\n",
       "      <td>Ball_007_1</td>\n",
       "    </tr>\n",
       "    <tr>\n",
       "      <th>4</th>\n",
       "      <td>0.44685</td>\n",
       "      <td>-0.57891</td>\n",
       "      <td>0.022167</td>\n",
       "      <td>0.138189</td>\n",
       "      <td>0.139922</td>\n",
       "      <td>-0.081534</td>\n",
       "      <td>0.402783</td>\n",
       "      <td>3.193561</td>\n",
       "      <td>6.312085</td>\n",
       "      <td>Ball_007_1</td>\n",
       "    </tr>\n",
       "  </tbody>\n",
       "</table>\n",
       "</div>"
      ],
      "text/plain": [
       "       max      min      mean        sd       rms  skewness  kurtosis  \\\n",
       "0  0.35986 -0.41890  0.017840  0.122746  0.124006 -0.118571 -0.042219   \n",
       "1  0.46772 -0.36111  0.022255  0.132488  0.134312  0.174699 -0.081548   \n",
       "2  0.46855 -0.43809  0.020470  0.149651  0.151008  0.040339 -0.274069   \n",
       "3  0.58475 -0.54303  0.020960  0.157067  0.158422 -0.023266  0.134692   \n",
       "4  0.44685 -0.57891  0.022167  0.138189  0.139922 -0.081534  0.402783   \n",
       "\n",
       "      crest      form       fault  \n",
       "0  2.901946  6.950855  Ball_007_1  \n",
       "1  3.482334  6.035202  Ball_007_1  \n",
       "2  3.102819  7.376926  Ball_007_1  \n",
       "3  3.691097  7.558387  Ball_007_1  \n",
       "4  3.193561  6.312085  Ball_007_1  "
      ]
     },
     "execution_count": 9,
     "metadata": {},
     "output_type": "execute_result"
    }
   ],
   "source": [
    "data_time = pd.read_csv(\"./CWRU/feature_time_48k_2048_load_1.csv\")\n",
    "data_time.head()"
   ]
  },
  {
   "cell_type": "code",
   "execution_count": 11,
   "id": "47ef17d7",
   "metadata": {},
   "outputs": [
    {
     "data": {
      "text/plain": [
       "max      min       mean      sd        rms       skewness   kurtosis    crest     form       fault       fault_code\n",
       "0.15730  -0.22364  0.011614  0.060820  0.061904  -0.235146  -0.153645   2.541028  5.329903   Normal_1    6.0           1\n",
       "1.46700  -1.25440  0.018469  0.266683  0.267257  -0.137361   3.736476   5.489105  14.470363  IR_007_1    3.0           1\n",
       "1.46140  -1.45780  0.018562  0.284901  0.285436   0.217370   4.793806   5.119894  15.377651  IR_007_1    3.0           1\n",
       "1.46240  -1.52660  0.022740  0.281499  0.282348  -0.221688   5.222693   5.179430  12.416202  IR_007_1    3.0           1\n",
       "1.46300  -1.47320  0.021675  0.287285  0.288032   0.117130   4.454458   5.079302  13.288755  IR_007_1    3.0           1\n",
       "                                                                                                                      ..\n",
       "0.51465  -0.57307  0.013730  0.135441  0.136102  -0.113438   1.568732   3.781346  9.913128   Ball_014_1  1.0           1\n",
       "0.51445  -0.50944  0.007652  0.176902  0.177024  -0.054754  -0.241490   2.906105  23.133873  Ball_021_1  2.0           1\n",
       "0.51424  -0.47272  0.017736  0.146721  0.147754  -0.069044  -0.263963   3.480379  8.330675   Ball_007_1  0.0           1\n",
       "         -0.52321  0.014376  0.136373  0.137096  -0.003735   0.230268   3.750950  9.536447   OR_014_6_1  8.0           1\n",
       "6.82590  -6.29260  0.014748  0.804096  0.804035  -0.173198   26.356081  8.489556  54.518233  OR_021_6_1  9.0           1\n",
       "Length: 2300, dtype: int64"
      ]
     },
     "execution_count": 11,
     "metadata": {},
     "output_type": "execute_result"
    }
   ],
   "source": [
    "data_time.value_counts()"
   ]
  },
  {
   "cell_type": "markdown",
   "id": "cc8eae7c",
   "metadata": {},
   "source": [
    "Encode fault types with numbers"
   ]
  },
  {
   "cell_type": "code",
   "execution_count": 10,
   "id": "627268c1",
   "metadata": {},
   "outputs": [
    {
     "data": {
      "text/html": [
       "<div>\n",
       "<style scoped>\n",
       "    .dataframe tbody tr th:only-of-type {\n",
       "        vertical-align: middle;\n",
       "    }\n",
       "\n",
       "    .dataframe tbody tr th {\n",
       "        vertical-align: top;\n",
       "    }\n",
       "\n",
       "    .dataframe thead th {\n",
       "        text-align: right;\n",
       "    }\n",
       "</style>\n",
       "<table border=\"1\" class=\"dataframe\">\n",
       "  <thead>\n",
       "    <tr style=\"text-align: right;\">\n",
       "      <th></th>\n",
       "      <th>fault</th>\n",
       "      <th>fault_code</th>\n",
       "    </tr>\n",
       "  </thead>\n",
       "  <tbody>\n",
       "    <tr>\n",
       "      <th>0</th>\n",
       "      <td>Ball_007_1</td>\n",
       "      <td>0.0</td>\n",
       "    </tr>\n",
       "    <tr>\n",
       "      <th>1</th>\n",
       "      <td>Ball_007_1</td>\n",
       "      <td>0.0</td>\n",
       "    </tr>\n",
       "    <tr>\n",
       "      <th>2</th>\n",
       "      <td>Ball_007_1</td>\n",
       "      <td>0.0</td>\n",
       "    </tr>\n",
       "    <tr>\n",
       "      <th>3</th>\n",
       "      <td>Ball_007_1</td>\n",
       "      <td>0.0</td>\n",
       "    </tr>\n",
       "    <tr>\n",
       "      <th>4</th>\n",
       "      <td>Ball_007_1</td>\n",
       "      <td>0.0</td>\n",
       "    </tr>\n",
       "    <tr>\n",
       "      <th>...</th>\n",
       "      <td>...</td>\n",
       "      <td>...</td>\n",
       "    </tr>\n",
       "    <tr>\n",
       "      <th>2295</th>\n",
       "      <td>Normal_1</td>\n",
       "      <td>6.0</td>\n",
       "    </tr>\n",
       "    <tr>\n",
       "      <th>2296</th>\n",
       "      <td>Normal_1</td>\n",
       "      <td>6.0</td>\n",
       "    </tr>\n",
       "    <tr>\n",
       "      <th>2297</th>\n",
       "      <td>Normal_1</td>\n",
       "      <td>6.0</td>\n",
       "    </tr>\n",
       "    <tr>\n",
       "      <th>2298</th>\n",
       "      <td>Normal_1</td>\n",
       "      <td>6.0</td>\n",
       "    </tr>\n",
       "    <tr>\n",
       "      <th>2299</th>\n",
       "      <td>Normal_1</td>\n",
       "      <td>6.0</td>\n",
       "    </tr>\n",
       "  </tbody>\n",
       "</table>\n",
       "<p>2300 rows × 2 columns</p>\n",
       "</div>"
      ],
      "text/plain": [
       "           fault  fault_code\n",
       "0     Ball_007_1         0.0\n",
       "1     Ball_007_1         0.0\n",
       "2     Ball_007_1         0.0\n",
       "3     Ball_007_1         0.0\n",
       "4     Ball_007_1         0.0\n",
       "...          ...         ...\n",
       "2295    Normal_1         6.0\n",
       "2296    Normal_1         6.0\n",
       "2297    Normal_1         6.0\n",
       "2298    Normal_1         6.0\n",
       "2299    Normal_1         6.0\n",
       "\n",
       "[2300 rows x 2 columns]"
      ]
     },
     "execution_count": 10,
     "metadata": {},
     "output_type": "execute_result"
    }
   ],
   "source": [
    "from sklearn.preprocessing import OrdinalEncoder\n",
    "\n",
    "ord_enc = OrdinalEncoder() #Fault유형에 따라 자동으로 fault_code를 부여해주는 애 인가보다\n",
    "data_time[\"fault_code\"] = ord_enc.fit_transform(data_time[[\"fault\"]])\n",
    "data_time[[\"fault\", \"fault_code\"]]"
   ]
  },
  {
   "cell_type": "code",
   "execution_count": 12,
   "id": "8d2a5ab3",
   "metadata": {},
   "outputs": [
    {
     "data": {
      "text/plain": [
       "array([0., 1., 2., 3., 4., 5., 7., 8., 9., 6.])"
      ]
     },
     "execution_count": 12,
     "metadata": {},
     "output_type": "execute_result"
    }
   ],
   "source": [
    "# List labels of bearing deffects\n",
    "data_time.fault_code.unique() # Equivalent: data_time['fault_code'].unique()"
   ]
  },
  {
   "cell_type": "code",
   "execution_count": 13,
   "id": "e49d4db7",
   "metadata": {},
   "outputs": [
    {
     "data": {
      "text/plain": [
       "fault_code  fault     \n",
       "0.0         Ball_007_1    230\n",
       "1.0         Ball_014_1    230\n",
       "2.0         Ball_021_1    230\n",
       "3.0         IR_007_1      230\n",
       "4.0         IR_014_1      230\n",
       "5.0         IR_021_1      230\n",
       "6.0         Normal_1      230\n",
       "7.0         OR_007_6_1    230\n",
       "8.0         OR_014_6_1    230\n",
       "9.0         OR_021_6_1    230\n",
       "dtype: int64"
      ]
     },
     "execution_count": 13,
     "metadata": {},
     "output_type": "execute_result"
    }
   ],
   "source": [
    "# How many data points are there for each defect type?\n",
    "data_time[['fault_code', 'fault']].value_counts()\n",
    "\n",
    "#각 fault마다 230개씩 존재함을 확인"
   ]
  },
  {
   "cell_type": "code",
   "execution_count": null,
   "id": "138ca466",
   "metadata": {},
   "outputs": [],
   "source": []
  }
 ],
 "metadata": {
  "kernelspec": {
   "display_name": "Python 3 (ipykernel)",
   "language": "python",
   "name": "python3"
  },
  "language_info": {
   "codemirror_mode": {
    "name": "ipython",
    "version": 3
   },
   "file_extension": ".py",
   "mimetype": "text/x-python",
   "name": "python",
   "nbconvert_exporter": "python",
   "pygments_lexer": "ipython3",
   "version": "3.9.7"
  }
 },
 "nbformat": 4,
 "nbformat_minor": 5
}
